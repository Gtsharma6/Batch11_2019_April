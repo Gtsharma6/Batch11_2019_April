{
 "cells": [
  {
   "cell_type": "code",
   "execution_count": 9,
   "metadata": {},
   "outputs": [
    {
     "name": "stdout",
     "output_type": "stream",
     "text": [
      "Before x =  5\n"
     ]
    },
    {
     "ename": "UnboundLocalError",
     "evalue": "local variable 'x' referenced before assignment",
     "output_type": "error",
     "traceback": [
      "\u001b[1;31m---------------------------------------------------------------------------\u001b[0m",
      "\u001b[1;31mUnboundLocalError\u001b[0m                         Traceback (most recent call last)",
      "\u001b[1;32m<ipython-input-9-03296e53445a>\u001b[0m in \u001b[0;36m<module>\u001b[1;34m\u001b[0m\n\u001b[0;32m      6\u001b[0m     \u001b[0mprint\u001b[0m\u001b[1;33m(\u001b[0m\u001b[1;34m\"In Function x = \"\u001b[0m\u001b[1;33m,\u001b[0m\u001b[0mx\u001b[0m\u001b[1;33m)\u001b[0m\u001b[1;33m\u001b[0m\u001b[1;33m\u001b[0m\u001b[0m\n\u001b[0;32m      7\u001b[0m \u001b[0mprint\u001b[0m\u001b[1;33m(\u001b[0m\u001b[1;34m\"Before x = \"\u001b[0m\u001b[1;33m,\u001b[0m\u001b[0mx\u001b[0m\u001b[1;33m)\u001b[0m\u001b[1;33m\u001b[0m\u001b[1;33m\u001b[0m\u001b[0m\n\u001b[1;32m----> 8\u001b[1;33m \u001b[0mdata\u001b[0m\u001b[1;33m(\u001b[0m\u001b[1;33m)\u001b[0m \u001b[1;31m#calling function called data\u001b[0m\u001b[1;33m\u001b[0m\u001b[1;33m\u001b[0m\u001b[0m\n\u001b[0m\u001b[0;32m      9\u001b[0m \u001b[0mprint\u001b[0m\u001b[1;33m(\u001b[0m\u001b[1;34m\"After x = \"\u001b[0m\u001b[1;33m,\u001b[0m\u001b[0mx\u001b[0m\u001b[1;33m)\u001b[0m\u001b[1;33m\u001b[0m\u001b[1;33m\u001b[0m\u001b[0m\n",
      "\u001b[1;32m<ipython-input-9-03296e53445a>\u001b[0m in \u001b[0;36mdata\u001b[1;34m()\u001b[0m\n\u001b[0;32m      3\u001b[0m     \"\"\"This doc string about data function.... We are \n\u001b[0;32m      4\u001b[0m     inside the body of data function\"\"\"\n\u001b[1;32m----> 5\u001b[1;33m     \u001b[0mx\u001b[0m \u001b[1;33m=\u001b[0m \u001b[0mx\u001b[0m \u001b[1;33m+\u001b[0m \u001b[1;36m5\u001b[0m\u001b[1;33m\u001b[0m\u001b[1;33m\u001b[0m\u001b[0m\n\u001b[0m\u001b[0;32m      6\u001b[0m     \u001b[0mprint\u001b[0m\u001b[1;33m(\u001b[0m\u001b[1;34m\"In Function x = \"\u001b[0m\u001b[1;33m,\u001b[0m\u001b[0mx\u001b[0m\u001b[1;33m)\u001b[0m\u001b[1;33m\u001b[0m\u001b[1;33m\u001b[0m\u001b[0m\n\u001b[0;32m      7\u001b[0m \u001b[0mprint\u001b[0m\u001b[1;33m(\u001b[0m\u001b[1;34m\"Before x = \"\u001b[0m\u001b[1;33m,\u001b[0m\u001b[0mx\u001b[0m\u001b[1;33m)\u001b[0m\u001b[1;33m\u001b[0m\u001b[1;33m\u001b[0m\u001b[0m\n",
      "\u001b[1;31mUnboundLocalError\u001b[0m: local variable 'x' referenced before assignment"
     ]
    }
   ],
   "source": [
    "x = 5 #global variable\n",
    "def data(): # defination of data function\n",
    "    \"\"\"This doc string about data function.... We are \n",
    "    inside the body of data function\"\"\"\n",
    "    x = x + 5\n",
    "    print(\"In Function x = \",x)\n",
    "print(\"Before x = \",x)\n",
    "data() #calling function called data\n",
    "print(\"After x = \",x)"
   ]
  },
  {
   "cell_type": "code",
   "execution_count": 11,
   "metadata": {},
   "outputs": [
    {
     "name": "stdout",
     "output_type": "stream",
     "text": [
      "Before x =  5\n",
      "Inside function x =  10\n",
      "After x =  5\n"
     ]
    }
   ],
   "source": [
    "x = 5\n",
    "def data(x): \n",
    "    x = x + 5\n",
    "    print(\"Inside function x = \",x)\n",
    "print(\"Before x = \",x)\n",
    "data(x)\n",
    "print(\"After x = \",x)"
   ]
  },
  {
   "cell_type": "code",
   "execution_count": 1,
   "metadata": {},
   "outputs": [
    {
     "data": {
      "text/plain": [
       "'__main__'"
      ]
     },
     "execution_count": 1,
     "metadata": {},
     "output_type": "execute_result"
    }
   ],
   "source": [
    "__name__"
   ]
  },
  {
   "cell_type": "raw",
   "metadata": {},
   "source": [
    "#include<stdio.h>\n",
    "int  hello(int,int ); #declearation\n",
    "int main(int x,int y)\n",
    "    { \n",
    "    int r;\n",
    "    printf(\"x = %d\",(x));\n",
    "    printf(\"y = %d\",(y));\n",
    "    printf(\"x + y = %d\",(x+y));\n",
    "    r = hello(2,3); #calling \n",
    "    printf(\"result = %d\",(r));\n",
    "    return 0 ; \n",
    "    }\n",
    "    \n",
    "int hello(int x,int y )  #defination #formal argumentsb\n",
    "{ \n",
    "   x = x*x; \n",
    "   y = y* y ;  #body\n",
    "   return x + y ; \n",
    "   } \n",
    "    \n",
    "  "
   ]
  },
  {
   "cell_type": "code",
   "execution_count": 3,
   "metadata": {},
   "outputs": [
    {
     "name": "stdout",
     "output_type": "stream",
     "text": [
      "hello world\n",
      "Welcome user  sachin yadav\n"
     ]
    }
   ],
   "source": [
    "def hello(name): \n",
    "    print(\"Welcome user \",name)\n",
    "if __name__ == \"__main__\" : \n",
    "    print(\"hello world\")\n",
    "    hello('sachin yadav')"
   ]
  },
  {
   "cell_type": "code",
   "execution_count": 4,
   "metadata": {},
   "outputs": [],
   "source": [
    "import sys"
   ]
  },
  {
   "cell_type": "code",
   "execution_count": 5,
   "metadata": {},
   "outputs": [
    {
     "data": {
      "text/plain": [
       "3000"
      ]
     },
     "execution_count": 5,
     "metadata": {},
     "output_type": "execute_result"
    }
   ],
   "source": [
    "sys.getrecursionlimit()"
   ]
  },
  {
   "cell_type": "code",
   "execution_count": 8,
   "metadata": {},
   "outputs": [],
   "source": [
    "sys.ps1 = 'command shell'"
   ]
  },
  {
   "cell_type": "code",
   "execution_count": 10,
   "metadata": {},
   "outputs": [
    {
     "name": "stdout",
     "output_type": "stream",
     "text": [
      "Before x =  5\n",
      "In Function x =  10\n",
      "After x =  10\n"
     ]
    }
   ],
   "source": [
    "x = 5 #global variable\n",
    "def data(): # defination of data function\n",
    "    \"\"\"This doc string about data function.... We are \n",
    "    inside the body of data function\"\"\"\n",
    "    global x\n",
    "    x = x + 5\n",
    "    print(\"In Function x = \",x)\n",
    "print(\"Before x = \",x)\n",
    "data() #calling function called data\n",
    "print(\"After x = \",x)"
   ]
  },
  {
   "cell_type": "code",
   "execution_count": 15,
   "metadata": {},
   "outputs": [],
   "source": [
    "def hello():\n",
    "    x  = 5\n",
    "    def hi(): \n",
    "        \n",
    "        print(x)\n",
    "    hi()\n"
   ]
  },
  {
   "cell_type": "code",
   "execution_count": 16,
   "metadata": {},
   "outputs": [
    {
     "name": "stdout",
     "output_type": "stream",
     "text": [
      "5\n"
     ]
    }
   ],
   "source": [
    "hello()"
   ]
  },
  {
   "cell_type": "code",
   "execution_count": 17,
   "metadata": {},
   "outputs": [],
   "source": [
    "x = 'global'\n",
    "def hello():\n",
    "    y  = 'non local'\n",
    "    def hi(): \n",
    "        z = 'hello'\n",
    "        nonlocal y\n",
    "        y = y.upper()\n",
    "        print(\"local z= \",z)\n",
    "    hi()\n",
    "    print(\"Global x = \",x)\n",
    "    print(\"Non Local y = \",y)\n"
   ]
  },
  {
   "cell_type": "code",
   "execution_count": 18,
   "metadata": {},
   "outputs": [
    {
     "name": "stdout",
     "output_type": "stream",
     "text": [
      "local z=  hello\n",
      "Global x =  global\n",
      "Non Local y =  NON LOCAL\n"
     ]
    }
   ],
   "source": [
    "hello()"
   ]
  },
  {
   "cell_type": "code",
   "execution_count": 24,
   "metadata": {},
   "outputs": [
    {
     "name": "stdout",
     "output_type": "stream",
     "text": [
      "5\n",
      "10\n",
      "15\n",
      "20\n",
      "25\n",
      "30\n",
      "35\n",
      "40\n",
      "45\n",
      "50\n"
     ]
    }
   ],
   "source": [
    "#closure\n",
    "#static variable\n",
    "def hello(num):\n",
    "    if hello.c > 10 : \n",
    "        return \n",
    "    print(num*hello.c)\n",
    "    hello.c = hello.c + 1\n",
    "    hello(num)\n",
    "\n",
    "hello.c = 1 #static variable\n",
    "hello(5)"
   ]
  },
  {
   "cell_type": "code",
   "execution_count": 36,
   "metadata": {},
   "outputs": [],
   "source": [
    "#closure\n",
    "def hello(company): \n",
    "    def hi(name,age): \n",
    "        print(\"Welcome to Comany \",company)\n",
    "        if age >= 18 : \n",
    "            print(f\"User {name} can Drink\")\n",
    "        else : \n",
    "            print(f\"User {name} can not Drink\")\n",
    "    return hi "
   ]
  },
  {
   "cell_type": "code",
   "execution_count": 37,
   "metadata": {},
   "outputs": [],
   "source": [
    "hi = hello('Grras Solutions Pvt. LTD.')"
   ]
  },
  {
   "cell_type": "code",
   "execution_count": 38,
   "metadata": {},
   "outputs": [
    {
     "name": "stdout",
     "output_type": "stream",
     "text": [
      "Welcome to Comany  Grras Solutions Pvt. LTD.\n",
      "User sachin can Drink\n"
     ]
    }
   ],
   "source": [
    "hi('sachin',23)"
   ]
  },
  {
   "cell_type": "code",
   "execution_count": 39,
   "metadata": {},
   "outputs": [
    {
     "name": "stdout",
     "output_type": "stream",
     "text": [
      "Welcome to Comany  Grras Solutions Pvt. LTD.\n",
      "User john can not Drink\n"
     ]
    }
   ],
   "source": [
    "hi('john',16)"
   ]
  },
  {
   "cell_type": "code",
   "execution_count": 34,
   "metadata": {},
   "outputs": [
    {
     "name": "stdout",
     "output_type": "stream",
     "text": [
      "kuch bhi\n"
     ]
    }
   ],
   "source": [
    "def kuchbhi(x,y):\n",
    "    print(\"kuch bhi\")\n",
    "    \n",
    "k = kuchbhi\n",
    "\n",
    "k(4,5)"
   ]
  },
  {
   "cell_type": "code",
   "execution_count": 31,
   "metadata": {},
   "outputs": [
    {
     "data": {
      "text/plain": [
       "2745767817424"
      ]
     },
     "execution_count": 31,
     "metadata": {},
     "output_type": "execute_result"
    }
   ],
   "source": [
    "id(k)"
   ]
  },
  {
   "cell_type": "code",
   "execution_count": 32,
   "metadata": {},
   "outputs": [
    {
     "data": {
      "text/plain": [
       "2745767817424"
      ]
     },
     "execution_count": 32,
     "metadata": {},
     "output_type": "execute_result"
    }
   ],
   "source": [
    "id(kuchbhi)"
   ]
  },
  {
   "cell_type": "code",
   "execution_count": 40,
   "metadata": {},
   "outputs": [],
   "source": [
    "linux_hi = hello('Linux World')"
   ]
  },
  {
   "cell_type": "code",
   "execution_count": 41,
   "metadata": {},
   "outputs": [
    {
     "name": "stdout",
     "output_type": "stream",
     "text": [
      "Welcome to Comany  Linux World\n",
      "User vimal can Drink\n"
     ]
    }
   ],
   "source": [
    "linux_hi('vimal',35)"
   ]
  },
  {
   "cell_type": "code",
   "execution_count": 43,
   "metadata": {},
   "outputs": [
    {
     "name": "stdout",
     "output_type": "stream",
     "text": [
      "hello world\n",
      "hi world\n",
      "i am old function\n",
      "\n",
      "\n",
      "HI i am decorator\n",
      "********************************************************************************\n",
      "********************************************************************************\n",
      "\n",
      "hello world\n",
      "hi world\n",
      "i am old function\n",
      "\n",
      "********************************************************************************\n",
      "********************************************************************************\n"
     ]
    }
   ],
   "source": [
    "#decorator\n",
    "\n",
    "def decorate(oldfunc): \n",
    "    def work():\n",
    "        print(\"\\n\\nHI i am decorator\")\n",
    "        print(\"*\"*80)\n",
    "        print(\"*\"*80)\n",
    "        print()\n",
    "        oldfunc()\n",
    "        print()\n",
    "        print(\"*\"*80)\n",
    "        print(\"*\"*80)\n",
    "    return work\n",
    "\n",
    "def hello(): #old func\n",
    "    print(\"hello world\")\n",
    "    print(\"hi world\")\n",
    "    print(\"i am old function\")\n",
    "    \n",
    "hello()\n",
    "\n",
    "new_hello  = decorate(hello)\n",
    "new_hello()"
   ]
  },
  {
   "cell_type": "code",
   "execution_count": 51,
   "metadata": {},
   "outputs": [
    {
     "name": "stdout",
     "output_type": "stream",
     "text": [
      "******************************\n",
      "******************************\n",
      "\n",
      "\n",
      "Welcome user  sachin yadav\n",
      "\n",
      "\n",
      "******************************\n",
      "******************************\n"
     ]
    }
   ],
   "source": [
    "def dec(old): \n",
    "    def work(*args,**kwargs): \n",
    "    #def work(name) : \n",
    "        print(\"*\"*30)\n",
    "        print(\"*\"*30)\n",
    "        print(\"\\n\")\n",
    "        old(*args,**kwargs)\n",
    "        #old(name)\n",
    "        print(\"\\n\")\n",
    "        print(\"*\"*30)\n",
    "        print(\"*\"*30)\n",
    "    return work \n",
    "@dec\n",
    "def hello(name):\n",
    "    print(\"Welcome user \",name)\n",
    "hello('sachin yadav')"
   ]
  },
  {
   "cell_type": "code",
   "execution_count": 52,
   "metadata": {},
   "outputs": [],
   "source": [
    "@dec\n",
    "def add(x,y): \n",
    "    print(\"x = \",x)\n",
    "    print(\"y = \",y)\n",
    "    print(\"x + y = \",x+y)"
   ]
  },
  {
   "cell_type": "code",
   "execution_count": 53,
   "metadata": {},
   "outputs": [
    {
     "ename": "TypeError",
     "evalue": "work() takes 1 positional argument but 2 were given",
     "output_type": "error",
     "traceback": [
      "\u001b[1;31m---------------------------------------------------------------------------\u001b[0m",
      "\u001b[1;31mTypeError\u001b[0m                                 Traceback (most recent call last)",
      "\u001b[1;32m<ipython-input-53-e7eff31c38f6>\u001b[0m in \u001b[0;36m<module>\u001b[1;34m\u001b[0m\n\u001b[1;32m----> 1\u001b[1;33m \u001b[0madd\u001b[0m\u001b[1;33m(\u001b[0m\u001b[1;36m4\u001b[0m\u001b[1;33m,\u001b[0m\u001b[1;36m5\u001b[0m\u001b[1;33m)\u001b[0m\u001b[1;33m\u001b[0m\u001b[1;33m\u001b[0m\u001b[0m\n\u001b[0m",
      "\u001b[1;31mTypeError\u001b[0m: work() takes 1 positional argument but 2 were given"
     ]
    }
   ],
   "source": [
    "add(4,5)"
   ]
  },
  {
   "cell_type": "code",
   "execution_count": null,
   "metadata": {},
   "outputs": [],
   "source": []
  }
 ],
 "metadata": {
  "kernelspec": {
   "display_name": "Python 3",
   "language": "python",
   "name": "python3"
  },
  "language_info": {
   "codemirror_mode": {
    "name": "ipython",
    "version": 3
   },
   "file_extension": ".py",
   "mimetype": "text/x-python",
   "name": "python",
   "nbconvert_exporter": "python",
   "pygments_lexer": "ipython3",
   "version": "3.7.1"
  }
 },
 "nbformat": 4,
 "nbformat_minor": 2
}
