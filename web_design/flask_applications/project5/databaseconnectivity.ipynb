{
 "cells": [
  {
   "cell_type": "raw",
   "metadata": {},
   "source": [
    "# before we start install mysql database server and fire following commands\n",
    "mysql -u root -p # to login\n",
    "create database project1; # to create data base\n",
    "\n",
    "use project1; # to select database1\n",
    "\n",
    "create table user( \n",
    "\temail varchar(100) primary key,\n",
    "\tfname varchar(100), lname varchar(100), password varchar(100),\n",
    "\tprofile_pic varchar(200) ); \n",
    "\n",
    "insert into user values ('sachin@gmail.com','sachin','yadav','redhat',\n",
    "\t\t\t\t\t\t'static/users/profile/sachin@gmail.com.jpeg');\n",
    "\t\t\t\t\t\n",
    "select * from user; \t\t\t\t\t\n",
    " update user set password='yahoo' where email='sachin@gmail.com';\n",
    " \n",
    "select * from user; \n",
    "\n",
    "delete from user where fname='sachin';\n",
    "\n",
    "create user 'project1'@'localhost' identified by 'redhat';\n",
    "grant all privileges on project1.* to 'project1'@'localhost';\n",
    "\n"
   ]
  },
  {
   "cell_type": "code",
   "execution_count": 1,
   "metadata": {},
   "outputs": [],
   "source": [
    "# python -m pip install mysqlclient # do it first\n",
    "\n",
    "import MySQLdb as sql "
   ]
  },
  {
   "cell_type": "code",
   "execution_count": 20,
   "metadata": {},
   "outputs": [],
   "source": [
    "con = sql.connect(host=\"localhost\",port=3306,user='project1',password='redhat',\n",
    "                  database='project1')\n",
    "# will connect us to database project1 "
   ]
  },
  {
   "cell_type": "code",
   "execution_count": 21,
   "metadata": {},
   "outputs": [],
   "source": [
    "cur = con.cursor() # it will give us cursor object by which we can \n",
    "# access or fire any command into database"
   ]
  },
  {
   "cell_type": "code",
   "execution_count": 4,
   "metadata": {},
   "outputs": [
    {
     "data": {
      "text/plain": [
       "1"
      ]
     },
     "execution_count": 4,
     "metadata": {},
     "output_type": "execute_result"
    }
   ],
   "source": [
    "cur.execute('select * from user')"
   ]
  },
  {
   "cell_type": "code",
   "execution_count": 5,
   "metadata": {},
   "outputs": [],
   "source": [
    "data = cur.fetchone()"
   ]
  },
  {
   "cell_type": "code",
   "execution_count": 6,
   "metadata": {},
   "outputs": [
    {
     "data": {
      "text/plain": [
       "('sachin@gmail.com',\n",
       " 'sachin',\n",
       " 'yadav',\n",
       " 'redhat',\n",
       " 'static/users/profile/sachin@gmail.com.jpeg')"
      ]
     },
     "execution_count": 6,
     "metadata": {},
     "output_type": "execute_result"
    }
   ],
   "source": [
    "data"
   ]
  },
  {
   "cell_type": "code",
   "execution_count": 10,
   "metadata": {},
   "outputs": [
    {
     "data": {
      "text/plain": [
       "1"
      ]
     },
     "execution_count": 10,
     "metadata": {},
     "output_type": "execute_result"
    }
   ],
   "source": [
    "cmd = \"insert into user values ( 'meena@gmail.com','meena','kanwar','myworld','static/users/profile/meena@gmail.com.jpeg')\"\n",
    "cur.execute(cmd) # but it will not be saved in database"
   ]
  },
  {
   "cell_type": "code",
   "execution_count": 11,
   "metadata": {},
   "outputs": [],
   "source": [
    "con.commit() # to update database"
   ]
  },
  {
   "cell_type": "code",
   "execution_count": 12,
   "metadata": {},
   "outputs": [
    {
     "data": {
      "text/plain": [
       "2"
      ]
     },
     "execution_count": 12,
     "metadata": {},
     "output_type": "execute_result"
    }
   ],
   "source": [
    "cur.execute(\"select * from user\")"
   ]
  },
  {
   "cell_type": "code",
   "execution_count": 13,
   "metadata": {},
   "outputs": [],
   "source": [
    "data = cur.fetchall()"
   ]
  },
  {
   "cell_type": "code",
   "execution_count": 14,
   "metadata": {},
   "outputs": [
    {
     "data": {
      "text/plain": [
       "(('meena@gmail.com',\n",
       "  'meena',\n",
       "  'kanwar',\n",
       "  'myworld',\n",
       "  'static/users/profile/meena@gmail.com.jpeg'),\n",
       " ('sachin@gmail.com',\n",
       "  'sachin',\n",
       "  'yadav',\n",
       "  'redhat',\n",
       "  'static/users/profile/sachin@gmail.com.jpeg'))"
      ]
     },
     "execution_count": 14,
     "metadata": {},
     "output_type": "execute_result"
    }
   ],
   "source": [
    "data"
   ]
  },
  {
   "cell_type": "code",
   "execution_count": 15,
   "metadata": {},
   "outputs": [
    {
     "name": "stdout",
     "output_type": "stream",
     "text": [
      "meena@gmail.com meena kanwar myworld static/users/profile/meena@gmail.com.jpeg\n",
      "sachin@gmail.com sachin yadav redhat static/users/profile/sachin@gmail.com.jpeg\n"
     ]
    }
   ],
   "source": [
    "for each_tuple in data : \n",
    "    print(*each_tuple)"
   ]
  },
  {
   "cell_type": "code",
   "execution_count": 16,
   "metadata": {},
   "outputs": [
    {
     "data": {
      "text/plain": [
       "1"
      ]
     },
     "execution_count": 16,
     "metadata": {},
     "output_type": "execute_result"
    }
   ],
   "source": [
    "cur.execute(\"select * from user where email='sachin@gmail.com'\")"
   ]
  },
  {
   "cell_type": "code",
   "execution_count": 17,
   "metadata": {},
   "outputs": [
    {
     "data": {
      "text/plain": [
       "('sachin@gmail.com',\n",
       " 'sachin',\n",
       " 'yadav',\n",
       " 'redhat',\n",
       " 'static/users/profile/sachin@gmail.com.jpeg')"
      ]
     },
     "execution_count": 17,
     "metadata": {},
     "output_type": "execute_result"
    }
   ],
   "source": [
    "cur.fetchone()"
   ]
  },
  {
   "cell_type": "code",
   "execution_count": 22,
   "metadata": {},
   "outputs": [],
   "source": [
    "cur.close()\n",
    "con.close()"
   ]
  },
  {
   "cell_type": "code",
   "execution_count": null,
   "metadata": {},
   "outputs": [],
   "source": []
  }
 ],
 "metadata": {
  "kernelspec": {
   "display_name": "Python 3",
   "language": "python",
   "name": "python3"
  },
  "language_info": {
   "codemirror_mode": {
    "name": "ipython",
    "version": 3
   },
   "file_extension": ".py",
   "mimetype": "text/x-python",
   "name": "python",
   "nbconvert_exporter": "python",
   "pygments_lexer": "ipython3",
   "version": "3.7.1"
  }
 },
 "nbformat": 4,
 "nbformat_minor": 2
}
